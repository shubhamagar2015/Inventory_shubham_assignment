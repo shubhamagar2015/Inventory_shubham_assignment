{
 "cells": [
  {
   "cell_type": "code",
   "execution_count": 1,
   "id": "a98d6b85",
   "metadata": {},
   "outputs": [
    {
     "ename": "ValueError",
     "evalue": "Excel file format cannot be determined, you must specify an engine manually.",
     "output_type": "error",
     "traceback": [
      "\u001b[1;31m---------------------------------------------------------------------------\u001b[0m",
      "\u001b[1;31mValueError\u001b[0m                                Traceback (most recent call last)",
      "Cell \u001b[1;32mIn[1], line 11\u001b[0m\n\u001b[0;32m      7\u001b[0m file_path_new_inventory \u001b[38;5;241m=\u001b[39m \u001b[38;5;124m'\u001b[39m\u001b[38;5;124mhttps://github.com/shubhamagar2015/Inventory_shubham_assignment/blob/main/New\u001b[39m\u001b[38;5;124m%\u001b[39m\u001b[38;5;124m20Inventory.xlsx\u001b[39m\u001b[38;5;124m'\u001b[39m\n\u001b[0;32m      9\u001b[0m \u001b[38;5;66;03m# Read the inventory datasets into pandas DataFrames\u001b[39;00m\n\u001b[1;32m---> 11\u001b[0m df1 \u001b[38;5;241m=\u001b[39m \u001b[43mpd\u001b[49m\u001b[38;5;241;43m.\u001b[39;49m\u001b[43mread_excel\u001b[49m\u001b[43m(\u001b[49m\u001b[43mfile_path_inventory\u001b[49m\u001b[43m)\u001b[49m           \u001b[38;5;66;03m## Inventory DF \u001b[39;00m\n\u001b[0;32m     12\u001b[0m df2 \u001b[38;5;241m=\u001b[39m pd\u001b[38;5;241m.\u001b[39mread_excel(file_path_new_inventory)       \u001b[38;5;66;03m## New Inventory DF\u001b[39;00m\n\u001b[0;32m     14\u001b[0m \u001b[38;5;66;03m# Rename columns for consistency\u001b[39;00m\n",
      "File \u001b[1;32m~\\AppData\\Local\\Programs\\Python\\Python39\\lib\\site-packages\\pandas\\io\\excel\\_base.py:504\u001b[0m, in \u001b[0;36mread_excel\u001b[1;34m(io, sheet_name, header, names, index_col, usecols, dtype, engine, converters, true_values, false_values, skiprows, nrows, na_values, keep_default_na, na_filter, verbose, parse_dates, date_parser, date_format, thousands, decimal, comment, skipfooter, storage_options, dtype_backend, engine_kwargs)\u001b[0m\n\u001b[0;32m    502\u001b[0m \u001b[38;5;28;01mif\u001b[39;00m \u001b[38;5;129;01mnot\u001b[39;00m \u001b[38;5;28misinstance\u001b[39m(io, ExcelFile):\n\u001b[0;32m    503\u001b[0m     should_close \u001b[38;5;241m=\u001b[39m \u001b[38;5;28;01mTrue\u001b[39;00m\n\u001b[1;32m--> 504\u001b[0m     io \u001b[38;5;241m=\u001b[39m \u001b[43mExcelFile\u001b[49m\u001b[43m(\u001b[49m\n\u001b[0;32m    505\u001b[0m \u001b[43m        \u001b[49m\u001b[43mio\u001b[49m\u001b[43m,\u001b[49m\n\u001b[0;32m    506\u001b[0m \u001b[43m        \u001b[49m\u001b[43mstorage_options\u001b[49m\u001b[38;5;241;43m=\u001b[39;49m\u001b[43mstorage_options\u001b[49m\u001b[43m,\u001b[49m\n\u001b[0;32m    507\u001b[0m \u001b[43m        \u001b[49m\u001b[43mengine\u001b[49m\u001b[38;5;241;43m=\u001b[39;49m\u001b[43mengine\u001b[49m\u001b[43m,\u001b[49m\n\u001b[0;32m    508\u001b[0m \u001b[43m        \u001b[49m\u001b[43mengine_kwargs\u001b[49m\u001b[38;5;241;43m=\u001b[39;49m\u001b[43mengine_kwargs\u001b[49m\u001b[43m,\u001b[49m\n\u001b[0;32m    509\u001b[0m \u001b[43m    \u001b[49m\u001b[43m)\u001b[49m\n\u001b[0;32m    510\u001b[0m \u001b[38;5;28;01melif\u001b[39;00m engine \u001b[38;5;129;01mand\u001b[39;00m engine \u001b[38;5;241m!=\u001b[39m io\u001b[38;5;241m.\u001b[39mengine:\n\u001b[0;32m    511\u001b[0m     \u001b[38;5;28;01mraise\u001b[39;00m \u001b[38;5;167;01mValueError\u001b[39;00m(\n\u001b[0;32m    512\u001b[0m         \u001b[38;5;124m\"\u001b[39m\u001b[38;5;124mEngine should not be specified when passing \u001b[39m\u001b[38;5;124m\"\u001b[39m\n\u001b[0;32m    513\u001b[0m         \u001b[38;5;124m\"\u001b[39m\u001b[38;5;124man ExcelFile - ExcelFile already has the engine set\u001b[39m\u001b[38;5;124m\"\u001b[39m\n\u001b[0;32m    514\u001b[0m     )\n",
      "File \u001b[1;32m~\\AppData\\Local\\Programs\\Python\\Python39\\lib\\site-packages\\pandas\\io\\excel\\_base.py:1567\u001b[0m, in \u001b[0;36mExcelFile.__init__\u001b[1;34m(self, path_or_buffer, engine, storage_options, engine_kwargs)\u001b[0m\n\u001b[0;32m   1563\u001b[0m     ext \u001b[38;5;241m=\u001b[39m inspect_excel_format(\n\u001b[0;32m   1564\u001b[0m         content_or_path\u001b[38;5;241m=\u001b[39mpath_or_buffer, storage_options\u001b[38;5;241m=\u001b[39mstorage_options\n\u001b[0;32m   1565\u001b[0m     )\n\u001b[0;32m   1566\u001b[0m     \u001b[38;5;28;01mif\u001b[39;00m ext \u001b[38;5;129;01mis\u001b[39;00m \u001b[38;5;28;01mNone\u001b[39;00m:\n\u001b[1;32m-> 1567\u001b[0m         \u001b[38;5;28;01mraise\u001b[39;00m \u001b[38;5;167;01mValueError\u001b[39;00m(\n\u001b[0;32m   1568\u001b[0m             \u001b[38;5;124m\"\u001b[39m\u001b[38;5;124mExcel file format cannot be determined, you must specify \u001b[39m\u001b[38;5;124m\"\u001b[39m\n\u001b[0;32m   1569\u001b[0m             \u001b[38;5;124m\"\u001b[39m\u001b[38;5;124man engine manually.\u001b[39m\u001b[38;5;124m\"\u001b[39m\n\u001b[0;32m   1570\u001b[0m         )\n\u001b[0;32m   1572\u001b[0m engine \u001b[38;5;241m=\u001b[39m config\u001b[38;5;241m.\u001b[39mget_option(\u001b[38;5;124mf\u001b[39m\u001b[38;5;124m\"\u001b[39m\u001b[38;5;124mio.excel.\u001b[39m\u001b[38;5;132;01m{\u001b[39;00mext\u001b[38;5;132;01m}\u001b[39;00m\u001b[38;5;124m.reader\u001b[39m\u001b[38;5;124m\"\u001b[39m, silent\u001b[38;5;241m=\u001b[39m\u001b[38;5;28;01mTrue\u001b[39;00m)\n\u001b[0;32m   1573\u001b[0m \u001b[38;5;28;01mif\u001b[39;00m engine \u001b[38;5;241m==\u001b[39m \u001b[38;5;124m\"\u001b[39m\u001b[38;5;124mauto\u001b[39m\u001b[38;5;124m\"\u001b[39m:\n",
      "\u001b[1;31mValueError\u001b[0m: Excel file format cannot be determined, you must specify an engine manually."
     ]
    }
   ],
   "source": [
    "import pandas as pd\n",
    "# from datetime import timedelta\n",
    "import matplotlib.pyplot as plt\n",
    "\n",
    "# File paths for the inventory datasets\n",
    "file_path_inventory = 'C:/Users/RH/Downloads/Inventory Dataset.xlsx'\n",
    "file_path_new_inventory = 'C:/Users/RH/Downloads/New Inventory.xlsx'\n",
    "\n",
    "# Read the inventory datasets into pandas DataFrames\n",
    "\n",
    "df1 = pd.read_excel(file_path_inventory)           ## Inventory DF \n",
    "df2 = pd.read_excel(file_path_new_inventory)       ## New Inventory DF\n",
    "\n",
    "# Rename columns for consistency\n",
    "df2.rename(columns={'Inventory Receive': 'Date', 'Total Item Qty': 'Inventory'}, inplace=True)\n",
    "\n",
    "# Combine the two DataFrames into a single DataFrame\n",
    "combined_df = pd.concat([df1, df2], ignore_index=True)\n",
    "\n",
    "# Extract the month and year from the 'Date' column\n",
    "combined_df['Month'] = combined_df['Date'].dt.to_period('M')\n",
    "# print(combined_df['Month'])\n",
    "\n",
    "\n",
    "# Calculate the total inventory for each month\n",
    "monthly_totals = combined_df.groupby('Month')['Inventory'].sum()\n",
    "\n",
    "# Print total monthly inventory levels\n",
    "# print(\"Total Monthly Inventory Levels:\",monthly_totals)\n",
    "\n",
    "\n",
    "# Get unique item numbers\n",
    "item_numbers = combined_df['Item Number'].unique()\n",
    "\n",
    "# Determine the start date and start day\n",
    "start_date = min(df1['Date'].min(), df2['Date'].min())\n",
    "# print(\"start_date : \",start_date)\n",
    "\n",
    "start_day = start_date.strftime('%a')  # Get the abbreviated day name (e.g., 'Mon', 'Tue', etc.)\n",
    "# print(\"start_day : \",start_day)\n",
    "\n",
    "# Calculate the number of weeks to cover the entire date range\n",
    "num_weeks = (combined_df['Date'].max() - start_date).days // 7 + 2\n",
    "# print(\"num_weeks : \",num_weeks)\n",
    "\n",
    "# Generate future dates on a weekly basis\n",
    "future_dates = pd.date_range(start=start_date, periods=num_weeks, freq='W-' + start_day)\n",
    "# print(\"future_dates : \",future_dates)\n",
    "\n",
    "\n",
    "# Create an empty DataFrame with future dates as columns\n",
    "output_df = pd.DataFrame(columns=['Item Number'] + future_dates.strftime('%m/%d/%Y').tolist())\n",
    "\n",
    "# Group by 'Item Number' and aggregate inventory quantities for each future date\n",
    "for item_number in item_numbers:\n",
    "    item_row = [item_number]\n",
    "    for date in future_dates:\n",
    "        # Calculate the total inventory up to each future date for each item number\n",
    "        total_inventory = combined_df[(combined_df['Item Number'] == item_number) & (combined_df['Date'] <= date)]['Inventory'].sum()\n",
    "        item_row.append(total_inventory)\n",
    "        \n",
    "    # Concatenate the item_row to the output_df\n",
    "    output_df = pd.concat([output_df, pd.DataFrame([item_row], columns=output_df.columns)])\n",
    "\n",
    "# Reset the index of the output DataFrame\n",
    "output_df.reset_index(drop=True, inplace=True)\n",
    "\n",
    "# Display the resulting DataFrame\n",
    "print(output_df)\n"
   ]
  },
  {
   "cell_type": "code",
   "execution_count": null,
   "id": "3b9cc20e",
   "metadata": {},
   "outputs": [],
   "source": [
    "# Plotting the bar chart for total monthly inventory levels with values on top of each bar\n",
    "plt.figure(figsize=(10, 6))  # Create a new figure with a specified size (width=10, height=6)\n",
    "bars = monthly_totals.plot(kind='bar', color='skyblue')  # Plot a bar chart and capture the bar objects\n",
    "\n",
    "# Add values on top of each bar\n",
    "for bar in bars.patches:\n",
    "    yval = bar.get_height()  # Get the height of the bar\n",
    "    plt.text(bar.get_x() + bar.get_width() / 2, yval, round(yval, 2), ha='center', va='bottom', fontsize=8)\n",
    "\n",
    "plt.title('Total Monthly Inventory Levels')  # Set the title of the plot\n",
    "plt.xlabel('Month')  # Set the label for the x-axis\n",
    "plt.ylabel('Total Inventory')  # Set the label for the y-axis\n",
    "plt.xticks(rotation=45, ha='right')  # Rotate x-axis labels for better readability\n",
    "plt.show()  # Display the plot\n"
   ]
  },
  {
   "cell_type": "code",
   "execution_count": null,
   "id": "8baf44df",
   "metadata": {},
   "outputs": [],
   "source": [
    "output_df.to_csv(\"C:/Users/RH/Downloads/output_df1.csv\",index=False)\n",
    "print(\"CSV Generated Sucessfully\")"
   ]
  },
  {
   "cell_type": "code",
   "execution_count": null,
   "id": "40ec3b6c",
   "metadata": {},
   "outputs": [],
   "source": []
  },
  {
   "cell_type": "code",
   "execution_count": null,
   "id": "cca01faf",
   "metadata": {},
   "outputs": [],
   "source": []
  },
  {
   "cell_type": "code",
   "execution_count": null,
   "id": "a9aec39f",
   "metadata": {},
   "outputs": [],
   "source": []
  },
  {
   "cell_type": "code",
   "execution_count": null,
   "id": "c34b6710",
   "metadata": {},
   "outputs": [],
   "source": []
  },
  {
   "cell_type": "code",
   "execution_count": null,
   "id": "8b481e51",
   "metadata": {},
   "outputs": [],
   "source": []
  },
  {
   "cell_type": "code",
   "execution_count": null,
   "id": "c5ed2b1f",
   "metadata": {},
   "outputs": [],
   "source": []
  },
  {
   "cell_type": "code",
   "execution_count": null,
   "id": "42c3449a",
   "metadata": {},
   "outputs": [],
   "source": []
  },
  {
   "cell_type": "code",
   "execution_count": null,
   "id": "3da2fc51",
   "metadata": {},
   "outputs": [],
   "source": []
  }
 ],
 "metadata": {
  "kernelspec": {
   "display_name": "Python 3 (ipykernel)",
   "language": "python",
   "name": "python3"
  },
  "language_info": {
   "codemirror_mode": {
    "name": "ipython",
    "version": 3
   },
   "file_extension": ".py",
   "mimetype": "text/x-python",
   "name": "python",
   "nbconvert_exporter": "python",
   "pygments_lexer": "ipython3",
   "version": "3.9.10"
  }
 },
 "nbformat": 4,
 "nbformat_minor": 5
}
